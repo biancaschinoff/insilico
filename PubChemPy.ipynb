{
  "nbformat": 4,
  "nbformat_minor": 0,
  "metadata": {
    "colab": {
      "name": "PubChemPy.ipynb",
      "provenance": [],
      "authorship_tag": "ABX9TyNFbD/4q/fuxYqUWXilenT3",
      "include_colab_link": true
    },
    "kernelspec": {
      "name": "python3",
      "display_name": "Python 3"
    }
  },
  "cells": [
    {
      "cell_type": "markdown",
      "metadata": {
        "id": "view-in-github",
        "colab_type": "text"
      },
      "source": [
        "<a href=\"https://colab.research.google.com/github/biancaschinoff/insilico/blob/main/PubChemPy.ipynb\" target=\"_parent\"><img src=\"https://colab.research.google.com/assets/colab-badge.svg\" alt=\"Open In Colab\"/></a>"
      ]
    },
    {
      "cell_type": "code",
      "metadata": {
        "colab": {
          "base_uri": "https://localhost:8080/"
        },
        "id": "jNTLJOzLXpcV",
        "outputId": "71b476a0-59f4-4003-850e-a5861825d637"
      },
      "source": [
        "pip install pubchempy"
      ],
      "execution_count": null,
      "outputs": [
        {
          "output_type": "stream",
          "text": [
            "Collecting pubchempy\n",
            "  Downloading https://files.pythonhosted.org/packages/aa/fb/8de3aa9804b614dbc8dc5c16ed061d819cc360e0ddecda3dcd01c1552339/PubChemPy-1.0.4.tar.gz\n",
            "Building wheels for collected packages: pubchempy\n",
            "  Building wheel for pubchempy (setup.py) ... \u001b[?25l\u001b[?25hdone\n",
            "  Created wheel for pubchempy: filename=PubChemPy-1.0.4-cp36-none-any.whl size=13827 sha256=070431ffe422e67a640b263b6ae001cc503f4b29f55025683aee4c2e87f9b119\n",
            "  Stored in directory: /root/.cache/pip/wheels/10/4d/51/6b843681a9a5aef35f0d0fbce243de46f85080036e16118752\n",
            "Successfully built pubchempy\n",
            "Installing collected packages: pubchempy\n",
            "Successfully installed pubchempy-1.0.4\n"
          ],
          "name": "stdout"
        }
      ]
    },
    {
      "cell_type": "code",
      "metadata": {
        "id": "kLqCY3KkX4fY"
      },
      "source": [
        "import pubchempy as pcp"
      ],
      "execution_count": null,
      "outputs": []
    },
    {
      "cell_type": "code",
      "metadata": {
        "id": "B0w4XMD1YC1z"
      },
      "source": [
        "#pegando o composto amfetamina pelo cid\n",
        "c = pcp.Compound.from_cid(3007)"
      ],
      "execution_count": null,
      "outputs": []
    },
    {
      "cell_type": "code",
      "metadata": {
        "colab": {
          "base_uri": "https://localhost:8080/"
        },
        "id": "T-22FHBhYOqn",
        "outputId": "248fcd0b-5c62-4904-933c-396d34eb0558"
      },
      "source": [
        "#print info sobre composto\n",
        "print (c.canonical_smiles)\n",
        "print (c.isomeric_smiles)\n",
        "print (c.xlogp)"
      ],
      "execution_count": null,
      "outputs": [
        {
          "output_type": "stream",
          "text": [
            "CC(CC1=CC=CC=C1)N\n",
            "CC(CC1=CC=CC=C1)N\n",
            "1.8\n"
          ],
          "name": "stdout"
        }
      ]
    },
    {
      "cell_type": "code",
      "metadata": {
        "colab": {
          "base_uri": "https://localhost:8080/"
        },
        "id": "-Jt6qCRbYuh-",
        "outputId": "e5230be6-411f-460a-aecf-fd774809add7"
      },
      "source": [
        "#achando cid de composto pelo nome\n",
        "c2= pcp.get_compounds('methamphetamine','name')\n",
        "print(c2)"
      ],
      "execution_count": null,
      "outputs": [
        {
          "output_type": "stream",
          "text": [
            "[Compound(10836)]\n"
          ],
          "name": "stdout"
        }
      ]
    },
    {
      "cell_type": "code",
      "metadata": {
        "colab": {
          "base_uri": "https://localhost:8080/"
        },
        "id": "z7Mf1fDOZw0-",
        "outputId": "01680af8-13db-4f6f-b3d7-e1bd9d7a76c3"
      },
      "source": [
        "#achando os compostos de uma substância\n",
        "\n",
        "c3 = pcp.get_substances ('ecstasy','name')\n",
        "print(c3)"
      ],
      "execution_count": null,
      "outputs": [
        {
          "output_type": "stream",
          "text": [
            "[Substance(841181), Substance(8147054), Substance(10522572), Substance(46506404), Substance(49884640), Substance(135001385), Substance(160964717), Substance(319061229), Substance(384060138), Substance(77047222), Substance(162225058), Substance(310280054), Substance(342574381)]\n"
          ],
          "name": "stdout"
        }
      ]
    },
    {
      "cell_type": "code",
      "metadata": {
        "colab": {
          "base_uri": "https://localhost:8080/"
        },
        "id": "WSRQT-fGaT8_",
        "outputId": "730ce489-4ed0-48e2-ffb7-6df49aa2469d"
      },
      "source": [
        "pip install pandas"
      ],
      "execution_count": null,
      "outputs": [
        {
          "output_type": "stream",
          "text": [
            "Requirement already satisfied: pandas in /usr/local/lib/python3.6/dist-packages (1.1.5)\n",
            "Requirement already satisfied: numpy>=1.15.4 in /usr/local/lib/python3.6/dist-packages (from pandas) (1.19.5)\n",
            "Requirement already satisfied: pytz>=2017.2 in /usr/local/lib/python3.6/dist-packages (from pandas) (2018.9)\n",
            "Requirement already satisfied: python-dateutil>=2.7.3 in /usr/local/lib/python3.6/dist-packages (from pandas) (2.8.1)\n",
            "Requirement already satisfied: six>=1.5 in /usr/local/lib/python3.6/dist-packages (from python-dateutil>=2.7.3->pandas) (1.15.0)\n"
          ],
          "name": "stdout"
        }
      ]
    },
    {
      "cell_type": "code",
      "metadata": {
        "id": "OYoAychfaYg8"
      },
      "source": [
        "import pandas as pd\n"
      ],
      "execution_count": null,
      "outputs": []
    },
    {
      "cell_type": "code",
      "metadata": {
        "colab": {
          "base_uri": "https://localhost:8080/"
        },
        "id": "qqh5a7m1aazv",
        "outputId": "3023443f-465b-460b-f2af-7b12af2d4ff5"
      },
      "source": [
        "#achando propriedades de um composto\n",
        "\n",
        "cs = pcp.get_compounds('amphetamine', 'name')\n",
        "df4 = pcp.compounds_to_frame(cs, properties=['isomeric_smiles', 'xlogp'])\n",
        "print(df4)"
      ],
      "execution_count": null,
      "outputs": [
        {
          "output_type": "stream",
          "text": [
            "      xlogp    isomeric_smiles\n",
            "cid                           \n",
            "3007    1.8  CC(CC1=CC=CC=C1)N\n"
          ],
          "name": "stdout"
        }
      ]
    }
  ]
}