{
  "nbformat": 4,
  "nbformat_minor": 0,
  "metadata": {
    "colab": {
      "name": "rdKit e mordred - LogP",
      "provenance": []
    },
    "kernelspec": {
      "name": "python3",
      "display_name": "Python 3"
    }
  },
  "cells": [
    {
      "cell_type": "markdown",
      "metadata": {
        "id": "5rXp5EIviJOU"
      },
      "source": [
        "Instalando RdKit"
      ]
    },
    {
      "cell_type": "code",
      "metadata": {
        "colab": {
          "base_uri": "https://localhost:8080/"
        },
        "id": "fvnfKS-niCVl",
        "outputId": "ef87b869-e3f2-4a3e-b168-76871b899a7e"
      },
      "source": [
        "import sys\n",
        "import os\n",
        "import requests\n",
        "import subprocess\n",
        "import shutil\n",
        "from logging import getLogger, StreamHandler, INFO\n",
        "\n",
        "\n",
        "logger = getLogger(__name__)\n",
        "logger.addHandler(StreamHandler())\n",
        "logger.setLevel(INFO)\n",
        "\n",
        "\n",
        "def install(\n",
        "        chunk_size=4096,\n",
        "        file_name=\"Miniconda3-latest-Linux-x86_64.sh\",\n",
        "        url_base=\"https://repo.continuum.io/miniconda/\",\n",
        "        conda_path=os.path.expanduser(os.path.join(\"~\", \"miniconda\")),\n",
        "        rdkit_version=None,\n",
        "        add_python_path=True,\n",
        "        force=False):\n",
        "    \"\"\"install rdkit from miniconda\n",
        "    ```\n",
        "    import rdkit_installer\n",
        "    rdkit_installer.install()\n",
        "    ```\n",
        "    \"\"\"\n",
        "\n",
        "    python_path = os.path.join(\n",
        "        conda_path,\n",
        "        \"lib\",\n",
        "        \"python{0}.{1}\".format(*sys.version_info),\n",
        "        \"site-packages\",\n",
        "    )\n",
        "\n",
        "    if add_python_path and python_path not in sys.path:\n",
        "        logger.info(\"add {} to PYTHONPATH\".format(python_path))\n",
        "        sys.path.append(python_path)\n",
        "\n",
        "    if os.path.isdir(os.path.join(python_path, \"rdkit\")):\n",
        "        logger.info(\"rdkit is already installed\")\n",
        "        if not force:\n",
        "            return\n",
        "\n",
        "        logger.info(\"force re-install\")\n",
        "\n",
        "    url = url_base + file_name\n",
        "    python_version = \"{0}.{1}.{2}\".format(*sys.version_info)\n",
        "\n",
        "    logger.info(\"python version: {}\".format(python_version))\n",
        "\n",
        "    if os.path.isdir(conda_path):\n",
        "        logger.warning(\"remove current miniconda\")\n",
        "        shutil.rmtree(conda_path)\n",
        "    elif os.path.isfile(conda_path):\n",
        "        logger.warning(\"remove {}\".format(conda_path))\n",
        "        os.remove(conda_path)\n",
        "\n",
        "    logger.info('fetching installer from {}'.format(url))\n",
        "    res = requests.get(url, stream=True)\n",
        "    res.raise_for_status()\n",
        "    with open(file_name, 'wb') as f:\n",
        "        for chunk in res.iter_content(chunk_size):\n",
        "            f.write(chunk)\n",
        "    logger.info('done')\n",
        "\n",
        "    logger.info('installing miniconda to {}'.format(conda_path))\n",
        "    subprocess.check_call([\"bash\", file_name, \"-b\", \"-p\", conda_path])\n",
        "    logger.info('done')\n",
        "\n",
        "    logger.info(\"installing rdkit\")\n",
        "    subprocess.check_call([\n",
        "        os.path.join(conda_path, \"bin\", \"conda\"),\n",
        "        \"install\",\n",
        "        \"--yes\",\n",
        "        \"-c\", \"rdkit\",\n",
        "        \"python=={}\".format(python_version),\n",
        "        \"rdkit\" if rdkit_version is None else \"rdkit=={}\".format(rdkit_version)])\n",
        "    logger.info(\"done\")\n",
        "\n",
        "    import rdkit\n",
        "    logger.info(\"rdkit-{} installation finished!\".format(rdkit.__version__))\n",
        "\n",
        "\n",
        "if __name__ == \"__main__\":\n",
        "    install()"
      ],
      "execution_count": null,
      "outputs": [
        {
          "output_type": "stream",
          "text": [
            "add /root/miniconda/lib/python3.6/site-packages to PYTHONPATH\n",
            "python version: 3.6.9\n",
            "fetching installer from https://repo.continuum.io/miniconda/Miniconda3-latest-Linux-x86_64.sh\n",
            "done\n",
            "installing miniconda to /root/miniconda\n",
            "done\n",
            "installing rdkit\n",
            "done\n",
            "rdkit-2020.09.1 installation finished!\n"
          ],
          "name": "stderr"
        }
      ]
    },
    {
      "cell_type": "code",
      "metadata": {
        "id": "04qp_UdDihHr"
      },
      "source": [
        "from rdkit.Chem import AllChem as Chem\n",
        "from rdkit.Chem import Descriptors\n",
        "meth = Chem.MolFromSmiles('CC(CC1=CC=CC=C1)NC')\n"
      ],
      "execution_count": null,
      "outputs": []
    },
    {
      "cell_type": "code",
      "metadata": {
        "colab": {
          "base_uri": "https://localhost:8080/"
        },
        "id": "MVo7PJOPilcK",
        "outputId": "d6c1c667-4562-4ac6-df27-7029398b6238"
      },
      "source": [
        "logP = Descriptors.MolLogP(meth)\n",
        "print(logP)"
      ],
      "execution_count": null,
      "outputs": [
        {
          "output_type": "stream",
          "text": [
            "1.837\n"
          ],
          "name": "stdout"
        }
      ]
    },
    {
      "cell_type": "code",
      "metadata": {
        "id": "s90HGVIwur4W"
      },
      "source": [
        "from rdkit.Chem import rdMolDescriptors\n",
        "from rdkit.Chem.Draw import ShowMol\n"
      ],
      "execution_count": null,
      "outputs": []
    },
    {
      "cell_type": "code",
      "metadata": {
        "colab": {
          "base_uri": "https://localhost:8080/"
        },
        "id": "WArZwwIPv8g8",
        "outputId": "d2c7f623-f237-48ed-f9a8-26af6b3a0d4d"
      },
      "source": [
        "help(ShowMol)"
      ],
      "execution_count": null,
      "outputs": [
        {
          "output_type": "stream",
          "text": [
            "Help on function ShowMol in module rdkit.Chem.Draw:\n",
            "\n",
            "ShowMol(mol, size=(300, 300), kekulize=True, wedgeBonds=True, title='RDKit Molecule', stayInFront=True, **kwargs)\n",
            "    Generates a picture of a molecule and displays it in a Tkinter window\n",
            "\n"
          ],
          "name": "stdout"
        }
      ]
    },
    {
      "cell_type": "code",
      "metadata": {
        "id": "vo3CU1wM_7gz",
        "colab": {
          "base_uri": "https://localhost:8080/"
        },
        "outputId": "8fb7a5b4-8df0-49db-ec11-d97102c5715f"
      },
      "source": [
        "!pip install mordred\n"
      ],
      "execution_count": null,
      "outputs": [
        {
          "output_type": "stream",
          "text": [
            "Collecting mordred\n",
            "\u001b[?25l  Downloading https://files.pythonhosted.org/packages/93/3d/26c908ece761adafcea06320bf8fe73f4de69979273fb164226dc6038c39/mordred-1.2.0.tar.gz (128kB)\n",
            "\r\u001b[K     |██▌                             | 10kB 15.6MB/s eta 0:00:01\r\u001b[K     |█████                           | 20kB 20.9MB/s eta 0:00:01\r\u001b[K     |███████▋                        | 30kB 14.0MB/s eta 0:00:01\r\u001b[K     |██████████▏                     | 40kB 10.1MB/s eta 0:00:01\r\u001b[K     |████████████▊                   | 51kB 8.5MB/s eta 0:00:01\r\u001b[K     |███████████████▎                | 61kB 9.1MB/s eta 0:00:01\r\u001b[K     |█████████████████▉              | 71kB 8.9MB/s eta 0:00:01\r\u001b[K     |████████████████████▍           | 81kB 9.6MB/s eta 0:00:01\r\u001b[K     |███████████████████████         | 92kB 8.6MB/s eta 0:00:01\r\u001b[K     |█████████████████████████▌      | 102kB 9.0MB/s eta 0:00:01\r\u001b[K     |████████████████████████████    | 112kB 9.0MB/s eta 0:00:01\r\u001b[K     |██████████████████████████████▌ | 122kB 9.0MB/s eta 0:00:01\r\u001b[K     |████████████████████████████████| 133kB 9.0MB/s \n",
            "\u001b[?25hRequirement already satisfied: six==1.* in /usr/local/lib/python3.6/dist-packages (from mordred) (1.15.0)\n",
            "Requirement already satisfied: numpy==1.* in /usr/local/lib/python3.6/dist-packages (from mordred) (1.19.5)\n",
            "Requirement already satisfied: networkx==2.* in /usr/local/lib/python3.6/dist-packages (from mordred) (2.5)\n",
            "Requirement already satisfied: decorator>=4.3.0 in /usr/local/lib/python3.6/dist-packages (from networkx==2.*->mordred) (4.4.2)\n",
            "Building wheels for collected packages: mordred\n",
            "  Building wheel for mordred (setup.py) ... \u001b[?25l\u001b[?25hdone\n",
            "  Created wheel for mordred: filename=mordred-1.2.0-cp36-none-any.whl size=176721 sha256=6e5b1dcc3647950847baeb9339534613e2495be3d04fd4530f5be70b4a12bc1f\n",
            "  Stored in directory: /root/.cache/pip/wheels/ac/74/3f/2fd81b1187013f2eadb15620434813f1824c4c03b7bd1f94f6\n",
            "Successfully built mordred\n",
            "Installing collected packages: mordred\n",
            "Successfully installed mordred-1.2.0\n"
          ],
          "name": "stdout"
        }
      ]
    },
    {
      "cell_type": "code",
      "metadata": {
        "id": "jvFUd0i84P45"
      },
      "source": [
        "from mordred import Calculator, descriptors\n"
      ],
      "execution_count": null,
      "outputs": []
    },
    {
      "cell_type": "code",
      "metadata": {
        "colab": {
          "base_uri": "https://localhost:8080/"
        },
        "id": "yYWHOmaS41zU",
        "outputId": "c31d7758-bf91-41e4-c0e7-c4f308e16a0e"
      },
      "source": [
        "calc = Calculator(descriptors.SLogP)\n",
        "mol_meth = Chem.MolFromSmiles('CC(CC1=CC=CC=C1)NC')\n",
        "logpmeth=calc(mol_meth)\n",
        "\n",
        "print(logpmeth)"
      ],
      "execution_count": null,
      "outputs": [
        {
          "output_type": "stream",
          "text": [
            "Result({'SLogP': 1.837, 'SMR': 48.66770000000003})\n"
          ],
          "name": "stdout"
        }
      ]
    }
  ]
}